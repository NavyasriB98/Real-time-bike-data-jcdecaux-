{
 "cells": [
  {
   "cell_type": "code",
   "execution_count": 16,
   "id": "f90fb65f",
   "metadata": {},
   "outputs": [],
   "source": [
    "import pandas as pd \n",
    "import schedule\n",
    "import time\n",
    "import requests\n",
    "import datetime"
   ]
  },
  {
   "cell_type": "code",
   "execution_count": 17,
   "id": "8a9e18d4",
   "metadata": {},
   "outputs": [],
   "source": [
    "def data_collection():\n",
    "    url=\"https://api.jcdecaux.com/vls/v1/stations?apiKey=\"\n",
    "    key=\"2df47125abc26cc9cd13e2dbe630f6b9e5512be2\"\n",
    "    bikes = url + key\n",
    "    response = requests.get(bikes)\n",
    "    data = response.json()\n",
    "    df=pd.DataFrame(data)\n",
    "    df.to_csv('bikes.csv', mode='a', index=False, header= False)\n",
    "    #df.to_csv('bikes.csv', index=False)"
   ]
  },
  {
   "cell_type": "code",
   "execution_count": 18,
   "id": "d03bee38",
   "metadata": {},
   "outputs": [],
   "source": [
    "data_collection()"
   ]
  },
  {
   "cell_type": "code",
   "execution_count": null,
   "id": "79faf9a3",
   "metadata": {},
   "outputs": [],
   "source": [
    "schedule.every().hour.do(data_collection)\n",
    "while 1:\n",
    "    schedule.run_pending()\n",
    "    #time.sleep(1)"
   ]
  },
  {
   "cell_type": "code",
   "execution_count": null,
   "id": "eea1b5b0",
   "metadata": {},
   "outputs": [],
   "source": []
  }
 ],
 "metadata": {
  "kernelspec": {
   "display_name": "Python 3 (ipykernel)",
   "language": "python",
   "name": "python3"
  },
  "language_info": {
   "codemirror_mode": {
    "name": "ipython",
    "version": 3
   },
   "file_extension": ".py",
   "mimetype": "text/x-python",
   "name": "python",
   "nbconvert_exporter": "python",
   "pygments_lexer": "ipython3",
   "version": "3.11.5"
  }
 },
 "nbformat": 4,
 "nbformat_minor": 5
}
